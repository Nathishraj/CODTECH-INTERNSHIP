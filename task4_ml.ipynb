{
 "cells": [
  {
   "cell_type": "code",
   "execution_count": null,
   "metadata": {
    "vscode": {
     "languageId": "plaintext"
    }
   },
   "outputs": [],
   "source": [
    "# Step 1: Import necessary libraries\n",
    "import pandas as pd\n",
    "import numpy as np\n",
    "import seaborn as sns\n",
    "import matplotlib.pyplot as plt\n",
    "from sklearn.model_selection import train_test_split\n",
    "from sklearn.feature_extraction.text import TfidfVectorizer\n",
    "from sklearn.naive_bayes import MultinomialNB\n",
    "from sklearn.metrics import accuracy_score, classification_report\n",
    "\n",
    "# Step 2: Load dataset (SMS Spam Collection dataset)\n",
    "url = \"https://raw.githubusercontent.com/justmarkham/pycon-2016-tutorial/master/data/sms-spam-collection.csv\"\n",
    "df = pd.read_csv(url, names=[\"label\", \"message\"], sep=\"\\t\")\n",
    "\n",
    "# Step 3: Convert labels (ham = 0, spam = 1)\n",
    "df['label'] = df['label'].map({'ham': 0, 'spam': 1})\n",
    "\n",
    "# Step 4: Text preprocessing (Convert text to numerical features)\n",
    "vectorizer = TfidfVectorizer(stop_words='english')\n",
    "X = vectorizer.fit_transform(df[\"message\"])\n",
    "y = df[\"label\"]\n",
    "\n",
    "# Step 5: Split the dataset (80% training, 20% testing)\n",
    "X_train, X_test, y_train, y_test = train_test_split(X, y, test_size=0.2, random_state=42)\n",
    "\n",
    "# Step 6: Train a Naïve Bayes Classifier\n",
    "model = MultinomialNB()\n",
    "model.fit(X_train, y_train)\n",
    "\n",
    "# Step 7: Predict on test data\n",
    "y_pred = model.predict(X_test)\n",
    "\n",
    "# Step 8: Evaluate model performance\n",
    "accuracy = accuracy_score(y_test, y_pred)\n",
    "print(f\"Model Accuracy: {accuracy:.2f}\")\n",
    "print(classification_report(y_test, y_pred))\n",
    "\n",
    "# Step 9: Testing with new data\n",
    "sample_messages = [\"You have won $5000! Claim now!\", \"Hey, are we meeting today?\"]\n",
    "sample_vectors = vectorizer.transform(sample_messages)\n",
    "predictions = model.predict(sample_vectors)\n",
    "\n",
    "# Display predictions\n",
    "for msg, pred in zip(sample_messages, predictions):\n",
    "    label = \"Spam\" if pred == 1 else \"Not Spam\"\n",
    "    print(f\"Message: {msg} --> Prediction: {label}\")\n"
   ]
  }
 ],
 "metadata": {
  "language_info": {
   "name": "python"
  }
 },
 "nbformat": 4,
 "nbformat_minor": 2
}
